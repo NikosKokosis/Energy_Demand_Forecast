{
 "cells": [
  {
   "cell_type": "code",
   "execution_count": 210,
   "metadata": {},
   "outputs": [],
   "source": [
    "import pandas as pd\n",
    "import numpy as np\n",
    "from tensorflow import keras\n",
    "from tensorflow.keras.models import Model\n",
    "from tensorflow.keras.layers import Input, LSTM, Dropout, Dense, concatenate"
   ]
  },
  {
   "cell_type": "code",
   "execution_count": 211,
   "metadata": {},
   "outputs": [],
   "source": [
    "df_no_weather = pd.read_csv('occ_app_for_chg_dmg_data/df_no_weather.csv')\n",
    "df_no_weather_pred = pd.read_csv('occ_app_for_chg_dmg_data/df_no_weather_pred.csv')"
   ]
  },
  {
   "cell_type": "code",
   "execution_count": 212,
   "metadata": {},
   "outputs": [],
   "source": [
    "df_no_weather= df_no_weather[['t', 'dayofweek', 'weekend', 'y_t_1', 'y']]"
   ]
  },
  {
   "cell_type": "code",
   "execution_count": 213,
   "metadata": {},
   "outputs": [
    {
     "data": {
      "text/html": [
       "<div>\n",
       "<style scoped>\n",
       "    .dataframe tbody tr th:only-of-type {\n",
       "        vertical-align: middle;\n",
       "    }\n",
       "\n",
       "    .dataframe tbody tr th {\n",
       "        vertical-align: top;\n",
       "    }\n",
       "\n",
       "    .dataframe thead th {\n",
       "        text-align: right;\n",
       "    }\n",
       "</style>\n",
       "<table border=\"1\" class=\"dataframe\">\n",
       "  <thead>\n",
       "    <tr style=\"text-align: right;\">\n",
       "      <th></th>\n",
       "      <th>t</th>\n",
       "      <th>dayofweek</th>\n",
       "      <th>weekend</th>\n",
       "      <th>y_t_1</th>\n",
       "      <th>y</th>\n",
       "    </tr>\n",
       "  </thead>\n",
       "  <tbody>\n",
       "    <tr>\n",
       "      <th>0</th>\n",
       "      <td>2</td>\n",
       "      <td>2</td>\n",
       "      <td>0</td>\n",
       "      <td>6.504000</td>\n",
       "      <td>8.763500</td>\n",
       "    </tr>\n",
       "    <tr>\n",
       "      <th>1</th>\n",
       "      <td>3</td>\n",
       "      <td>3</td>\n",
       "      <td>0</td>\n",
       "      <td>8.763500</td>\n",
       "      <td>3.742333</td>\n",
       "    </tr>\n",
       "    <tr>\n",
       "      <th>2</th>\n",
       "      <td>4</td>\n",
       "      <td>4</td>\n",
       "      <td>0</td>\n",
       "      <td>3.742333</td>\n",
       "      <td>8.291333</td>\n",
       "    </tr>\n",
       "    <tr>\n",
       "      <th>3</th>\n",
       "      <td>5</td>\n",
       "      <td>5</td>\n",
       "      <td>0</td>\n",
       "      <td>8.291333</td>\n",
       "      <td>1.478000</td>\n",
       "    </tr>\n",
       "    <tr>\n",
       "      <th>4</th>\n",
       "      <td>6</td>\n",
       "      <td>6</td>\n",
       "      <td>1</td>\n",
       "      <td>1.478000</td>\n",
       "      <td>5.453333</td>\n",
       "    </tr>\n",
       "  </tbody>\n",
       "</table>\n",
       "</div>"
      ],
      "text/plain": [
       "   t  dayofweek  weekend     y_t_1         y\n",
       "0  2          2        0  6.504000  8.763500\n",
       "1  3          3        0  8.763500  3.742333\n",
       "2  4          4        0  3.742333  8.291333\n",
       "3  5          5        0  8.291333  1.478000\n",
       "4  6          6        1  1.478000  5.453333"
      ]
     },
     "execution_count": 213,
     "metadata": {},
     "output_type": "execute_result"
    }
   ],
   "source": [
    "df_no_weather.head()"
   ]
  },
  {
   "cell_type": "code",
   "execution_count": 214,
   "metadata": {},
   "outputs": [
    {
     "data": {
      "text/html": [
       "<div>\n",
       "<style scoped>\n",
       "    .dataframe tbody tr th:only-of-type {\n",
       "        vertical-align: middle;\n",
       "    }\n",
       "\n",
       "    .dataframe tbody tr th {\n",
       "        vertical-align: top;\n",
       "    }\n",
       "\n",
       "    .dataframe thead th {\n",
       "        text-align: right;\n",
       "    }\n",
       "</style>\n",
       "<table border=\"1\" class=\"dataframe\">\n",
       "  <thead>\n",
       "    <tr style=\"text-align: right;\">\n",
       "      <th></th>\n",
       "      <th>weekday</th>\n",
       "      <th>weekend</th>\n",
       "    </tr>\n",
       "  </thead>\n",
       "  <tbody>\n",
       "    <tr>\n",
       "      <th>0</th>\n",
       "      <td>0.317912</td>\n",
       "      <td>0.282021</td>\n",
       "    </tr>\n",
       "    <tr>\n",
       "      <th>1</th>\n",
       "      <td>0.317002</td>\n",
       "      <td>0.270882</td>\n",
       "    </tr>\n",
       "    <tr>\n",
       "      <th>2</th>\n",
       "      <td>0.313248</td>\n",
       "      <td>0.302579</td>\n",
       "    </tr>\n",
       "    <tr>\n",
       "      <th>3</th>\n",
       "      <td>0.295502</td>\n",
       "      <td>0.320241</td>\n",
       "    </tr>\n",
       "    <tr>\n",
       "      <th>4</th>\n",
       "      <td>0.295303</td>\n",
       "      <td>0.306273</td>\n",
       "    </tr>\n",
       "  </tbody>\n",
       "</table>\n",
       "</div>"
      ],
      "text/plain": [
       "    weekday   weekend\n",
       "0  0.317912  0.282021\n",
       "1  0.317002  0.270882\n",
       "2  0.313248  0.302579\n",
       "3  0.295502  0.320241\n",
       "4  0.295303  0.306273"
      ]
     },
     "execution_count": 214,
     "metadata": {},
     "output_type": "execute_result"
    }
   ],
   "source": [
    "df_no_weather_pred.head()"
   ]
  },
  {
   "cell_type": "markdown",
   "metadata": {},
   "source": [
    "### read data for hybrid LSTM"
   ]
  },
  {
   "cell_type": "code",
   "execution_count": 215,
   "metadata": {},
   "outputs": [],
   "source": [
    "# split a multivariate sequence into samples\n",
    "def split_sequences(sequences, n_steps_in, n_steps_out):\n",
    "\tX, y = list(), list()\n",
    "\tfor i in range(len(sequences)):\n",
    "\t\t# find the end of this pattern\n",
    "\t\tend_ix = i + n_steps_in\n",
    "\t\tout_end_ix = end_ix + n_steps_out-1\n",
    "\t\t# check if we are beyond the dataset\n",
    "\t\tif out_end_ix > len(sequences):\n",
    "\t\t\tbreak\n",
    "\t\t# gather input and output parts of the pattern\n",
    "\t\tseq_x, seq_y = sequences[i:end_ix, :-1], sequences[end_ix-1:out_end_ix, -1]\n",
    "\t\tX.append(seq_x)\n",
    "\t\ty.append(seq_y)\n",
    "\treturn np.array(X), np.array(y)"
   ]
  },
  {
   "cell_type": "code",
   "execution_count": 216,
   "metadata": {},
   "outputs": [
    {
     "data": {
      "text/plain": [
       "1500"
      ]
     },
     "execution_count": 216,
     "metadata": {},
     "output_type": "execute_result"
    }
   ],
   "source": [
    "Z = pd.read_csv('occ_app_for_chg_dmg_data/df_no_weather.csv')\n",
    "Z = Z.to_numpy()\n",
    "Z.shape\n",
    "\n",
    "n_steps_in = 12 # input y sequence for LSTM cell\n",
    "n_steps_out = 6 # num of predicted steps. \n",
    "X, y = split_sequences(Z[:,3:5], n_steps_in, n_steps_out )\n",
    "\n",
    "n_train=int(0.7*len(X))\n",
    "n_train"
   ]
  },
  {
   "cell_type": "code",
   "execution_count": 217,
   "metadata": {},
   "outputs": [
    {
     "data": {
      "text/plain": [
       "array([[0.31791215, 0.31700243, 0.31324809, 0.29550166, 0.29530325,\n",
       "        0.3092698 , 0.31489946, 0.31031509, 0.30200582, 0.32170263,\n",
       "        0.30004395, 0.2882696 , 0.30255969, 0.30591496, 0.31489319,\n",
       "        0.32338516, 0.30048604, 0.30200113, 0.30514246, 0.31805912,\n",
       "        0.31418455, 0.30526192, 0.31301308, 0.31718323, 0.30450071,\n",
       "        0.30625539, 0.30298699, 0.29523927, 0.27347046, 0.27597714,\n",
       "        0.19321612],\n",
       "       [0.28202085, 0.27088225, 0.30257939, 0.32024121, 0.30627291,\n",
       "        0.2758864 , 0.28217405, 0.28398111, 0.29728039, 0.27905345,\n",
       "        0.30492935, 0.30181827, 0.29161193, 0.27644512, 0.30398961,\n",
       "        0.28116483, 0.28160628, 0.3097238 , 0.2955401 , 0.2968595 ,\n",
       "        0.2900046 , 0.28713474, 0.2700854 , 0.26602479, 0.33513676,\n",
       "        0.3086348 , 0.29446329, 0.28672284, 0.26738065, 0.24451089,\n",
       "        0.1410636 ]])"
      ]
     },
     "execution_count": 217,
     "metadata": {},
     "output_type": "execute_result"
    }
   ],
   "source": [
    "Z1 = pd.read_csv('occ_app_for_chg_dmg_data/df_no_weather_pred.csv')\n",
    "Z1 = Z1.to_numpy()\n",
    "Z1 = Z1.transpose()\n",
    "Z1"
   ]
  },
  {
   "cell_type": "code",
   "execution_count": 218,
   "metadata": {},
   "outputs": [
    {
     "data": {
      "text/plain": [
       "array([[0., 0., 0., ..., 0., 0., 0.],\n",
       "       [0., 0., 0., ..., 0., 0., 0.],\n",
       "       [0., 0., 0., ..., 0., 0., 0.],\n",
       "       ...,\n",
       "       [0., 0., 0., ..., 0., 0., 0.],\n",
       "       [0., 0., 0., ..., 0., 0., 0.],\n",
       "       [0., 0., 0., ..., 0., 0., 0.]])"
      ]
     },
     "execution_count": 218,
     "metadata": {},
     "output_type": "execute_result"
    }
   ],
   "source": [
    "Z2 =np.concatenate((Z1,Z1),axis=1) \n",
    "X2 = np.zeros([len(Z),3+Z2.shape[1]],float)\n",
    "X2"
   ]
  },
  {
   "cell_type": "code",
   "execution_count": 219,
   "metadata": {},
   "outputs": [],
   "source": [
    "for i in range(len(Z)-n_steps_in): \n",
    "    if Z[i+n_steps_in-1,-1]==0:      \n",
    "       #  qq=np.array(Z2[0][Z[i+n_steps_in-1,0]:Z[i+n_steps_in-1,0]+n_steps_out])\n",
    "        qq=np.array(Z2[0][0:Z2.shape[1]])\n",
    "        X2[i]=np.append(Z[i+n_steps_in-1][0:3],qq) \n",
    "    else:            \n",
    "        # qq=np.array(Z2[1][Z[i+n_steps_in-1,0]:Z[i+n_steps_in-1,0]+n_steps_out])\n",
    "        qq=np.array(Z2[1][0:Z2.shape[1]])\n",
    "        X2[i]=np.append(Z[i+n_steps_in-1][0:3],qq) "
   ]
  },
  {
   "cell_type": "code",
   "execution_count": 220,
   "metadata": {},
   "outputs": [
    {
     "name": "stdout",
     "output_type": "stream",
     "text": [
      "(1500, 12, 1)\n"
     ]
    },
    {
     "data": {
      "text/plain": [
       "(643, 12, 1)"
      ]
     },
     "execution_count": 220,
     "metadata": {},
     "output_type": "execute_result"
    }
   ],
   "source": [
    "X_train=X[0: n_train,];         y_train = y[0:n_train,]\n",
    "X_test =X[n_train: len(X),];    y_test  = y[n_train:len(X),]\n",
    "\n",
    "print(X_train.shape)\n",
    "X_test.shape "
   ]
  },
  {
   "cell_type": "code",
   "execution_count": 221,
   "metadata": {},
   "outputs": [
    {
     "name": "stdout",
     "output_type": "stream",
     "text": [
      "(1500, 65)\n"
     ]
    },
    {
     "data": {
      "text/plain": [
       "(643, 65)"
      ]
     },
     "execution_count": 221,
     "metadata": {},
     "output_type": "execute_result"
    }
   ],
   "source": [
    "X2_train=X2[0: n_train,]; X2_test =X2[n_train: len(X),];  \n",
    "print(X2_train.shape)\n",
    "X2_test.shape"
   ]
  },
  {
   "cell_type": "code",
   "execution_count": 222,
   "metadata": {},
   "outputs": [
    {
     "data": {
      "text/plain": [
       "array([[ 8.7635    ],\n",
       "       [ 3.74233333],\n",
       "       [ 8.29133333],\n",
       "       [ 1.478     ],\n",
       "       [ 5.45333333],\n",
       "       [ 7.653     ],\n",
       "       [12.23      ],\n",
       "       [ 7.63366667],\n",
       "       [ 5.87975   ],\n",
       "       [ 7.5475    ],\n",
       "       [ 6.87625   ],\n",
       "       [ 7.131     ]])"
      ]
     },
     "execution_count": 222,
     "metadata": {},
     "output_type": "execute_result"
    }
   ],
   "source": [
    "X_train[0,]"
   ]
  },
  {
   "cell_type": "code",
   "execution_count": 223,
   "metadata": {},
   "outputs": [
    {
     "data": {
      "text/plain": [
       "array([13.        ,  6.        ,  1.        ,  0.28202085,  0.27088225,\n",
       "        0.30257939,  0.32024121,  0.30627291,  0.2758864 ,  0.28217405,\n",
       "        0.28398111,  0.29728039,  0.27905345,  0.30492935,  0.30181827,\n",
       "        0.29161193,  0.27644512,  0.30398961,  0.28116483,  0.28160628,\n",
       "        0.3097238 ,  0.2955401 ,  0.2968595 ,  0.2900046 ,  0.28713474,\n",
       "        0.2700854 ,  0.26602479,  0.33513676,  0.3086348 ,  0.29446329,\n",
       "        0.28672284,  0.26738065,  0.24451089,  0.1410636 ,  0.28202085,\n",
       "        0.27088225,  0.30257939,  0.32024121,  0.30627291,  0.2758864 ,\n",
       "        0.28217405,  0.28398111,  0.29728039,  0.27905345,  0.30492935,\n",
       "        0.30181827,  0.29161193,  0.27644512,  0.30398961,  0.28116483,\n",
       "        0.28160628,  0.3097238 ,  0.2955401 ,  0.2968595 ,  0.2900046 ,\n",
       "        0.28713474,  0.2700854 ,  0.26602479,  0.33513676,  0.3086348 ,\n",
       "        0.29446329,  0.28672284,  0.26738065,  0.24451089,  0.1410636 ])"
      ]
     },
     "execution_count": 223,
     "metadata": {},
     "output_type": "execute_result"
    }
   ],
   "source": [
    "X2_train[0,]  "
   ]
  },
  {
   "cell_type": "markdown",
   "metadata": {},
   "source": [
    "############\n",
    "### Mix_LSTM\n",
    "##############"
   ]
  },
  {
   "cell_type": "code",
   "execution_count": 224,
   "metadata": {},
   "outputs": [
    {
     "data": {
      "text/plain": [
       "(1500, 12, 1)"
      ]
     },
     "execution_count": 224,
     "metadata": {},
     "output_type": "execute_result"
    }
   ],
   "source": [
    "X_train.shape"
   ]
  },
  {
   "cell_type": "code",
   "execution_count": 225,
   "metadata": {},
   "outputs": [],
   "source": [
    "n_features = 1  # one feature for the input of the LSTM cell\n",
    "n_n_lstm = 36\n",
    "dropout = 0.2"
   ]
  },
  {
   "cell_type": "code",
   "execution_count": 226,
   "metadata": {},
   "outputs": [
    {
     "name": "stdout",
     "output_type": "stream",
     "text": [
      "Model: \"model_4\"\n",
      "__________________________________________________________________________________________________\n",
      " Layer (type)                   Output Shape         Param #     Connected to                     \n",
      "==================================================================================================\n",
      " input_9 (InputLayer)           [(None, 12, 1)]      0           []                               \n",
      "                                                                                                  \n",
      " input_10 (InputLayer)          [(None, 65)]         0           []                               \n",
      "                                                                                                  \n",
      " lstm_4 (LSTM)                  (None, 36)           5472        ['input_9[0][0]']                \n",
      "                                                                                                  \n",
      " dense_25 (Dense)               (None, 65)           4290        ['input_10[0][0]']               \n",
      "                                                                                                  \n",
      " dropout_8 (Dropout)            (None, 36)           0           ['lstm_4[0][0]']                 \n",
      "                                                                                                  \n",
      " dense_26 (Dense)               (None, 64)           4224        ['dense_25[0][0]']               \n",
      "                                                                                                  \n",
      " dense_24 (Dense)               (None, 18)           666         ['dropout_8[0][0]']              \n",
      "                                                                                                  \n",
      " dense_27 (Dense)               (None, 32)           2080        ['dense_26[0][0]']               \n",
      "                                                                                                  \n",
      " concatenate_4 (Concatenate)    (None, 50)           0           ['dense_24[0][0]',               \n",
      "                                                                  'dense_27[0][0]']               \n",
      "                                                                                                  \n",
      " dense_28 (Dense)               (None, 100)          5100        ['concatenate_4[0][0]']          \n",
      "                                                                                                  \n",
      " dropout_9 (Dropout)            (None, 100)          0           ['dense_28[0][0]']               \n",
      "                                                                                                  \n",
      " dense_29 (Dense)               (None, 6)            606         ['dropout_9[0][0]']              \n",
      "                                                                                                  \n",
      "==================================================================================================\n",
      "Total params: 22,438\n",
      "Trainable params: 22,438\n",
      "Non-trainable params: 0\n",
      "__________________________________________________________________________________________________\n"
     ]
    }
   ],
   "source": [
    "# ------------------ Hybrid LSTM Model Architecture ------------------\n",
    "\n",
    "# Input 1: Sequential data input for the LSTM model. This could be historical data, with 'n_steps_in' time steps and 'n_features' features\n",
    "# Input 2: External factors that could influence the charging demand. These could be factors like weather, events, or holidays.\n",
    "input1 = Input(shape=(n_steps_in, n_features)) \n",
    "input2 = Input(shape=(X2_train.shape[1],)) \n",
    "\n",
    "# LSTM layer to process the sequential input data\n",
    "model_LSTM = LSTM(n_n_lstm)(input1)\n",
    "model_LSTM = Dropout(dropout)(model_LSTM) \n",
    "model_LSTM = Dense(18, activation='relu')(model_LSTM) \n",
    "\n",
    "# Dense layers to process the external factors (input 2)\n",
    "# These layers will extract and transform relevant features from the external factors\n",
    "meta_layer = Dense(X2_train.shape[1], activation=\"relu\")(input2)\n",
    "meta_layer = Dense(64, activation=\"relu\")(meta_layer)\n",
    "meta_layer = Dense(32, activation=\"relu\")(meta_layer) \n",
    "\n",
    "# Concatenate the output from the LSTM model and the processed external factors\n",
    "# This step combines the temporal information from the LSTM with the external factors for a comprehensive prediction\n",
    "model_merge = concatenate([model_LSTM, meta_layer])\n",
    "model_merge = Dense(100, activation='relu')(model_merge)  # This layer integrates the information from both the LSTM output and external factors\n",
    "model_merge = Dropout(dropout)(model_merge)\n",
    "\n",
    "# Final output layer with sigmoid activation\n",
    "# This layer outputs the predicted charging demand for each of the future time steps\n",
    "output = Dense(n_steps_out, activation='sigmoid')(model_merge)  \n",
    "\n",
    "# Define the complete model with two inputs (sequential data and external factors) and one output (predicted demand)\n",
    "model = Model(inputs=[input1, input2], outputs=output)\n",
    "\n",
    "model.compile(loss='mean_squared_error', optimizer='adam', metrics=['mean_absolute_error'])\n",
    "model.summary()"
   ]
  },
  {
   "cell_type": "code",
   "execution_count": 227,
   "metadata": {},
   "outputs": [
    {
     "data": {
      "image/png": "[encoded data removed]",
      "text/plain": [
       "<IPython.core.display.Image object>"
      ]
     },
     "execution_count": 227,
     "metadata": {},
     "output_type": "execute_result"
    }
   ],
   "source": [
    "keras.utils.plot_model(model, show_shapes=True)"
   ]
  },
  {
   "cell_type": "code",
   "execution_count": 229,
   "metadata": {},
   "outputs": [
    {
     "name": "stdout",
     "output_type": "stream",
     "text": [
      "Epoch 1/20\n",
      "50/50 - 0s - loss: 65.2114 - mean_absolute_error: 7.7726 - 423ms/epoch - 8ms/step\n",
      "Epoch 2/20\n",
      "50/50 - 0s - loss: 65.2114 - mean_absolute_error: 7.7726 - 369ms/epoch - 7ms/step\n",
      "Epoch 3/20\n",
      "50/50 - 0s - loss: 65.2114 - mean_absolute_error: 7.7726 - 368ms/epoch - 7ms/step\n",
      "Epoch 4/20\n",
      "50/50 - 0s - loss: 65.2114 - mean_absolute_error: 7.7726 - 341ms/epoch - 7ms/step\n",
      "Epoch 5/20\n",
      "50/50 - 0s - loss: 65.2114 - mean_absolute_error: 7.7726 - 350ms/epoch - 7ms/step\n",
      "Epoch 6/20\n",
      "50/50 - 0s - loss: 65.2114 - mean_absolute_error: 7.7726 - 369ms/epoch - 7ms/step\n",
      "Epoch 7/20\n",
      "50/50 - 0s - loss: 65.2114 - mean_absolute_error: 7.7726 - 434ms/epoch - 9ms/step\n",
      "Epoch 8/20\n",
      "50/50 - 0s - loss: 65.2114 - mean_absolute_error: 7.7726 - 411ms/epoch - 8ms/step\n",
      "Epoch 9/20\n",
      "50/50 - 0s - loss: 65.2114 - mean_absolute_error: 7.7726 - 363ms/epoch - 7ms/step\n",
      "Epoch 10/20\n",
      "50/50 - 0s - loss: 65.2114 - mean_absolute_error: 7.7726 - 411ms/epoch - 8ms/step\n",
      "Epoch 11/20\n",
      "50/50 - 0s - loss: 65.2114 - mean_absolute_error: 7.7726 - 360ms/epoch - 7ms/step\n",
      "Epoch 12/20\n",
      "50/50 - 0s - loss: 65.2114 - mean_absolute_error: 7.7726 - 330ms/epoch - 7ms/step\n",
      "Epoch 13/20\n",
      "50/50 - 0s - loss: 65.2114 - mean_absolute_error: 7.7726 - 348ms/epoch - 7ms/step\n",
      "Epoch 14/20\n",
      "50/50 - 0s - loss: 65.2114 - mean_absolute_error: 7.7726 - 379ms/epoch - 8ms/step\n",
      "Epoch 15/20\n",
      "50/50 - 0s - loss: 65.2114 - mean_absolute_error: 7.7726 - 394ms/epoch - 8ms/step\n",
      "Epoch 16/20\n",
      "50/50 - 0s - loss: 65.2114 - mean_absolute_error: 7.7726 - 447ms/epoch - 9ms/step\n",
      "Epoch 17/20\n",
      "50/50 - 0s - loss: 65.2114 - mean_absolute_error: 7.7726 - 413ms/epoch - 8ms/step\n",
      "Epoch 18/20\n",
      "50/50 - 0s - loss: 65.2114 - mean_absolute_error: 7.7726 - 446ms/epoch - 9ms/step\n",
      "Epoch 19/20\n",
      "50/50 - 0s - loss: 65.2114 - mean_absolute_error: 7.7726 - 434ms/epoch - 9ms/step\n",
      "Epoch 20/20\n",
      "50/50 - 0s - loss: 65.2114 - mean_absolute_error: 7.7726 - 452ms/epoch - 9ms/step\n"
     ]
    },
    {
     "data": {
      "text/plain": [
       "<keras.callbacks.History at 0x242d21ce6d0>"
      ]
     },
     "execution_count": 229,
     "metadata": {},
     "output_type": "execute_result"
    }
   ],
   "source": [
    "n_epoch=20\n",
    "bat_size= 30\n",
    "\n",
    "\n",
    "model.fit([X_train, X2_train], y_train, epochs=n_epoch, batch_size=bat_size,verbose=2)"
   ]
  },
  {
   "cell_type": "code",
   "execution_count": null,
   "metadata": {},
   "outputs": [],
   "source": []
  }
 ],
 "metadata": {
  "kernelspec": {
   "display_name": "base",
   "language": "python",
   "name": "python3"
  },
  "language_info": {
   "codemirror_mode": {
    "name": "ipython",
    "version": 3
   },
   "file_extension": ".py",
   "mimetype": "text/x-python",
   "name": "python",
   "nbconvert_exporter": "python",
   "pygments_lexer": "ipython3",
   "version": "3.9.12"
  }
 },
 "nbformat": 4,
 "nbformat_minor": 2
}
