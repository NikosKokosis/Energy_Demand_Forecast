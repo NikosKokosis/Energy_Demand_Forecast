{
 "cells": [
  {
   "cell_type": "code",
   "execution_count": 1,
   "metadata": {},
   "outputs": [],
   "source": [
    "import pandas as pd"
   ]
  },
  {
   "cell_type": "code",
   "execution_count": 2,
   "metadata": {},
   "outputs": [
    {
     "data": {
      "text/plain": [
       "Index(['Chargingevent', 'CPID', 'Connector', 'StartDate', 'StartTime',\n",
       "       'EndDate', 'EndTime', 'StartDate_num', 'StartTime_num', 'EndDate_num',\n",
       "       'EndTime_num', 'duration', 'TotalkWh', 'Cost', 'Site', 'Group', 'Model',\n",
       "       'Model1'],\n",
       "      dtype='object')"
      ]
     },
     "execution_count": 2,
     "metadata": {},
     "output_type": "execute_result"
    }
   ],
   "source": [
    "df = pd.read_csv('data/data_chg_all.csv')\n",
    "df.columns"
   ]
  },
  {
   "cell_type": "code",
   "execution_count": 4,
   "metadata": {},
   "outputs": [
    {
     "data": {
      "text/html": [
       "<div>\n",
       "<style scoped>\n",
       "    .dataframe tbody tr th:only-of-type {\n",
       "        vertical-align: middle;\n",
       "    }\n",
       "\n",
       "    .dataframe tbody tr th {\n",
       "        vertical-align: top;\n",
       "    }\n",
       "\n",
       "    .dataframe thead th {\n",
       "        text-align: right;\n",
       "    }\n",
       "</style>\n",
       "<table border=\"1\" class=\"dataframe\">\n",
       "  <thead>\n",
       "    <tr style=\"text-align: right;\">\n",
       "      <th></th>\n",
       "      <th>t</th>\n",
       "      <th>dayofweek</th>\n",
       "      <th>weekend</th>\n",
       "      <th>y_t_1</th>\n",
       "      <th>y</th>\n",
       "    </tr>\n",
       "  </thead>\n",
       "  <tbody>\n",
       "    <tr>\n",
       "      <th>0</th>\n",
       "      <td>2</td>\n",
       "      <td>1</td>\n",
       "      <td>0</td>\n",
       "      <td>0</td>\n",
       "      <td>0</td>\n",
       "    </tr>\n",
       "    <tr>\n",
       "      <th>1</th>\n",
       "      <td>3</td>\n",
       "      <td>1</td>\n",
       "      <td>0</td>\n",
       "      <td>0</td>\n",
       "      <td>0</td>\n",
       "    </tr>\n",
       "    <tr>\n",
       "      <th>2</th>\n",
       "      <td>4</td>\n",
       "      <td>1</td>\n",
       "      <td>0</td>\n",
       "      <td>0</td>\n",
       "      <td>0</td>\n",
       "    </tr>\n",
       "    <tr>\n",
       "      <th>3</th>\n",
       "      <td>5</td>\n",
       "      <td>1</td>\n",
       "      <td>0</td>\n",
       "      <td>0</td>\n",
       "      <td>0</td>\n",
       "    </tr>\n",
       "    <tr>\n",
       "      <th>4</th>\n",
       "      <td>6</td>\n",
       "      <td>1</td>\n",
       "      <td>0</td>\n",
       "      <td>0</td>\n",
       "      <td>0</td>\n",
       "    </tr>\n",
       "  </tbody>\n",
       "</table>\n",
       "</div>"
      ],
      "text/plain": [
       "   t  dayofweek  weekend  y_t_1  y\n",
       "0  2          1        0      0  0\n",
       "1  3          1        0      0  0\n",
       "2  4          1        0      0  0\n",
       "3  5          1        0      0  0\n",
       "4  6          1        0      0  0"
      ]
     },
     "execution_count": 4,
     "metadata": {},
     "output_type": "execute_result"
    }
   ],
   "source": [
    "a = pd.read_csv('data/data_chg/data_chg_1.csv')\n",
    "a.head()"
   ]
  },
  {
   "cell_type": "code",
   "execution_count": 13,
   "metadata": {},
   "outputs": [
    {
     "data": {
      "text/plain": [
       "8783"
      ]
     },
     "execution_count": 13,
     "metadata": {},
     "output_type": "execute_result"
    }
   ],
   "source": [
    "len(a)"
   ]
  },
  {
   "cell_type": "code",
   "execution_count": 11,
   "metadata": {},
   "outputs": [
    {
     "data": {
      "text/html": [
       "<div>\n",
       "<style scoped>\n",
       "    .dataframe tbody tr th:only-of-type {\n",
       "        vertical-align: middle;\n",
       "    }\n",
       "\n",
       "    .dataframe tbody tr th {\n",
       "        vertical-align: top;\n",
       "    }\n",
       "\n",
       "    .dataframe thead th {\n",
       "        text-align: right;\n",
       "    }\n",
       "</style>\n",
       "<table border=\"1\" class=\"dataframe\">\n",
       "  <thead>\n",
       "    <tr style=\"text-align: right;\">\n",
       "      <th></th>\n",
       "      <th>t</th>\n",
       "      <th>dayofweek</th>\n",
       "      <th>weekend</th>\n",
       "      <th>y_t_1</th>\n",
       "      <th>y</th>\n",
       "    </tr>\n",
       "  </thead>\n",
       "  <tbody>\n",
       "    <tr>\n",
       "      <th>43</th>\n",
       "      <td>45</td>\n",
       "      <td>1</td>\n",
       "      <td>0</td>\n",
       "      <td>0</td>\n",
       "      <td>1</td>\n",
       "    </tr>\n",
       "    <tr>\n",
       "      <th>44</th>\n",
       "      <td>46</td>\n",
       "      <td>1</td>\n",
       "      <td>0</td>\n",
       "      <td>1</td>\n",
       "      <td>1</td>\n",
       "    </tr>\n",
       "    <tr>\n",
       "      <th>45</th>\n",
       "      <td>47</td>\n",
       "      <td>1</td>\n",
       "      <td>0</td>\n",
       "      <td>1</td>\n",
       "      <td>1</td>\n",
       "    </tr>\n",
       "    <tr>\n",
       "      <th>46</th>\n",
       "      <td>48</td>\n",
       "      <td>1</td>\n",
       "      <td>0</td>\n",
       "      <td>1</td>\n",
       "      <td>1</td>\n",
       "    </tr>\n",
       "    <tr>\n",
       "      <th>63</th>\n",
       "      <td>65</td>\n",
       "      <td>1</td>\n",
       "      <td>0</td>\n",
       "      <td>0</td>\n",
       "      <td>1</td>\n",
       "    </tr>\n",
       "    <tr>\n",
       "      <th>...</th>\n",
       "      <td>...</td>\n",
       "      <td>...</td>\n",
       "      <td>...</td>\n",
       "      <td>...</td>\n",
       "      <td>...</td>\n",
       "    </tr>\n",
       "    <tr>\n",
       "      <th>8718</th>\n",
       "      <td>80</td>\n",
       "      <td>5</td>\n",
       "      <td>0</td>\n",
       "      <td>0</td>\n",
       "      <td>1</td>\n",
       "    </tr>\n",
       "    <tr>\n",
       "      <th>8719</th>\n",
       "      <td>81</td>\n",
       "      <td>5</td>\n",
       "      <td>0</td>\n",
       "      <td>1</td>\n",
       "      <td>1</td>\n",
       "    </tr>\n",
       "    <tr>\n",
       "      <th>8720</th>\n",
       "      <td>82</td>\n",
       "      <td>5</td>\n",
       "      <td>0</td>\n",
       "      <td>1</td>\n",
       "      <td>1</td>\n",
       "    </tr>\n",
       "    <tr>\n",
       "      <th>8721</th>\n",
       "      <td>83</td>\n",
       "      <td>5</td>\n",
       "      <td>0</td>\n",
       "      <td>1</td>\n",
       "      <td>1</td>\n",
       "    </tr>\n",
       "    <tr>\n",
       "      <th>8722</th>\n",
       "      <td>84</td>\n",
       "      <td>5</td>\n",
       "      <td>0</td>\n",
       "      <td>1</td>\n",
       "      <td>1</td>\n",
       "    </tr>\n",
       "  </tbody>\n",
       "</table>\n",
       "<p>554 rows × 5 columns</p>\n",
       "</div>"
      ],
      "text/plain": [
       "       t  dayofweek  weekend  y_t_1  y\n",
       "43    45          1        0      0  1\n",
       "44    46          1        0      1  1\n",
       "45    47          1        0      1  1\n",
       "46    48          1        0      1  1\n",
       "63    65          1        0      0  1\n",
       "...   ..        ...      ...    ... ..\n",
       "8718  80          5        0      0  1\n",
       "8719  81          5        0      1  1\n",
       "8720  82          5        0      1  1\n",
       "8721  83          5        0      1  1\n",
       "8722  84          5        0      1  1\n",
       "\n",
       "[554 rows x 5 columns]"
      ]
     },
     "execution_count": 11,
     "metadata": {},
     "output_type": "execute_result"
    }
   ],
   "source": [
    "a[a.y != 0]"
   ]
  },
  {
   "cell_type": "code",
   "execution_count": 7,
   "metadata": {},
   "outputs": [
    {
     "data": {
      "text/html": [
       "<div>\n",
       "<style scoped>\n",
       "    .dataframe tbody tr th:only-of-type {\n",
       "        vertical-align: middle;\n",
       "    }\n",
       "\n",
       "    .dataframe tbody tr th {\n",
       "        vertical-align: top;\n",
       "    }\n",
       "\n",
       "    .dataframe thead th {\n",
       "        text-align: right;\n",
       "    }\n",
       "</style>\n",
       "<table border=\"1\" class=\"dataframe\">\n",
       "  <thead>\n",
       "    <tr style=\"text-align: right;\">\n",
       "      <th></th>\n",
       "      <th>weekday</th>\n",
       "      <th>weekend</th>\n",
       "    </tr>\n",
       "  </thead>\n",
       "  <tbody>\n",
       "    <tr>\n",
       "      <th>0</th>\n",
       "      <td>0.022222</td>\n",
       "      <td>0.0625</td>\n",
       "    </tr>\n",
       "    <tr>\n",
       "      <th>1</th>\n",
       "      <td>0.000000</td>\n",
       "      <td>0.0625</td>\n",
       "    </tr>\n",
       "    <tr>\n",
       "      <th>2</th>\n",
       "      <td>0.022222</td>\n",
       "      <td>0.0000</td>\n",
       "    </tr>\n",
       "    <tr>\n",
       "      <th>3</th>\n",
       "      <td>0.022222</td>\n",
       "      <td>0.0625</td>\n",
       "    </tr>\n",
       "    <tr>\n",
       "      <th>4</th>\n",
       "      <td>0.000000</td>\n",
       "      <td>0.0625</td>\n",
       "    </tr>\n",
       "  </tbody>\n",
       "</table>\n",
       "</div>"
      ],
      "text/plain": [
       "    weekday  weekend\n",
       "0  0.022222   0.0625\n",
       "1  0.000000   0.0625\n",
       "2  0.022222   0.0000\n",
       "3  0.022222   0.0625\n",
       "4  0.000000   0.0625"
      ]
     },
     "execution_count": 7,
     "metadata": {},
     "output_type": "execute_result"
    }
   ],
   "source": [
    "avg_vhg_occ_rate = pd.read_csv('data/data_chg_pred_occ_t/data_chg_pred_occ_t_1.csv')\n",
    "avg_vhg_occ_rate.head()"
   ]
  },
  {
   "cell_type": "code",
   "execution_count": 3,
   "metadata": {},
   "outputs": [
    {
     "data": {
      "text/plain": [
       "15901"
      ]
     },
     "execution_count": 3,
     "metadata": {},
     "output_type": "execute_result"
    }
   ],
   "source": [
    "# Convert 'StartDate' to datetime with the correct format\n",
    "df['StartDate'] = pd.to_datetime(df['StartDate'], format='%m/%d/%Y')\n",
    "\n",
    "# Define the date range\n",
    "start_date = pd.Timestamp('2018-03-05')\n",
    "end_date = pd.Timestamp('2018-06-04')\n",
    "\n",
    "# Filter the dataset to include only rows within the date range\n",
    "df = df[(df['StartDate'] >= start_date) & (df['StartDate'] <= end_date)]\n",
    "\n",
    "len(df)"
   ]
  },
  {
   "cell_type": "code",
   "execution_count": 4,
   "metadata": {},
   "outputs": [
    {
     "name": "stdout",
     "output_type": "stream",
     "text": [
      "Number of days: 92\n"
     ]
    }
   ],
   "source": [
    "all_dates = pd.date_range(start=start_date, end=end_date, freq='D')\n",
    "print('Number of days:', len(all_dates))"
   ]
  },
  {
   "cell_type": "code",
   "execution_count": 5,
   "metadata": {},
   "outputs": [
    {
     "name": "stdout",
     "output_type": "stream",
     "text": [
      "Charger Counts:\n",
      "Model1\n",
      "Slow     40\n",
      "fast      8\n",
      "rapid     9\n",
      "Name: CPID, dtype: int64\n"
     ]
    }
   ],
   "source": [
    "grouped_counts = df.groupby(['Model1'])\n",
    "\n",
    "print(\"Charger Counts:\")\n",
    "print(grouped_counts['CPID'].nunique())"
   ]
  },
  {
   "cell_type": "code",
   "execution_count": 6,
   "metadata": {},
   "outputs": [
    {
     "name": "stdout",
     "output_type": "stream",
     "text": [
      "Charger Percentages:\n",
      "rapid    56.229168\n",
      "Slow     35.236778\n",
      "fast      8.534054\n",
      "Name: Model1, dtype: float64\n"
     ]
    }
   ],
   "source": [
    "# Count the number of each type of charger\n",
    "charger_counts = df['Model1'].value_counts()\n",
    "\n",
    "# Calculate the total number of charging sessions\n",
    "total_sessions = len(df)\n",
    "\n",
    "# Calculate the percentage of sessions for each type of charger\n",
    "charger_percentages = (charger_counts / total_sessions) * 100\n",
    "\n",
    "print(\"Charger Percentages:\")\n",
    "print(charger_percentages)"
   ]
  },
  {
   "cell_type": "code",
   "execution_count": 7,
   "metadata": {},
   "outputs": [
    {
     "name": "stdout",
     "output_type": "stream",
     "text": [
      "0.79% of outliers were removed.\n"
     ]
    }
   ],
   "source": [
    "# Keep only the rapid chargers\n",
    "rapid_chargers_df = df[df['Model1'] == 'rapid']\n",
    "\n",
    "# Calculate the median and standard deviation of the 'duration' column for rapid chargers\n",
    "median_duration = rapid_chargers_df['duration'].median()\n",
    "std_duration = rapid_chargers_df['duration'].std()\n",
    "\n",
    "# Define the threshold for outliers\n",
    "upper_threshold = median_duration + 3 * std_duration\n",
    "lower_threshold = median_duration - 3 * std_duration\n",
    "\n",
    "# Filter out the outliers\n",
    "filtered_df = rapid_chargers_df[(rapid_chargers_df['duration'] >= lower_threshold) & (rapid_chargers_df['duration'] <= upper_threshold )]\n",
    "\n",
    "# Check the percentage of rows removed\n",
    "percent_removed = (1 - len(filtered_df) / len(rapid_chargers_df)) * 100\n",
    "print(f'{percent_removed:.2f}% of outliers were removed.')"
   ]
  },
  {
   "cell_type": "code",
   "execution_count": 8,
   "metadata": {},
   "outputs": [
    {
     "data": {
      "text/plain": [
       "count    8941.000000\n",
       "mean       28.313723\n",
       "std        36.412521\n",
       "min         5.000000\n",
       "25%        15.000000\n",
       "50%        24.000000\n",
       "75%        34.000000\n",
       "max      1145.000000\n",
       "Name: duration, dtype: float64"
      ]
     },
     "execution_count": 8,
     "metadata": {},
     "output_type": "execute_result"
    }
   ],
   "source": [
    "rapid_chargers_df['duration'].describe()"
   ]
  },
  {
   "cell_type": "code",
   "execution_count": 9,
   "metadata": {},
   "outputs": [
    {
     "data": {
      "text/plain": [
       "count    8870.000000\n",
       "mean       25.860203\n",
       "std        14.171344\n",
       "min         5.000000\n",
       "25%        15.000000\n",
       "50%        24.000000\n",
       "75%        33.000000\n",
       "max       127.000000\n",
       "Name: duration, dtype: float64"
      ]
     },
     "execution_count": 9,
     "metadata": {},
     "output_type": "execute_result"
    }
   ],
   "source": [
    "filtered_df['duration'].describe()"
   ]
  },
  {
   "cell_type": "markdown",
   "metadata": {},
   "source": [
    "## **Our Data**"
   ]
  },
  {
   "cell_type": "code",
   "execution_count": 10,
   "metadata": {},
   "outputs": [
    {
     "data": {
      "text/html": [
       "<div>\n",
       "<style scoped>\n",
       "    .dataframe tbody tr th:only-of-type {\n",
       "        vertical-align: middle;\n",
       "    }\n",
       "\n",
       "    .dataframe tbody tr th {\n",
       "        vertical-align: top;\n",
       "    }\n",
       "\n",
       "    .dataframe thead th {\n",
       "        text-align: right;\n",
       "    }\n",
       "</style>\n",
       "<table border=\"1\" class=\"dataframe\">\n",
       "  <thead>\n",
       "    <tr style=\"text-align: right;\">\n",
       "      <th></th>\n",
       "      <th>Unnamed: 0</th>\n",
       "      <th>ObjectId2</th>\n",
       "      <th>Station_Name</th>\n",
       "      <th>Address</th>\n",
       "      <th>City</th>\n",
       "      <th>State_Province</th>\n",
       "      <th>Zip_Postal_Code</th>\n",
       "      <th>Start_Date___Time</th>\n",
       "      <th>Start_Time_Zone</th>\n",
       "      <th>End_Date___Time</th>\n",
       "      <th>...</th>\n",
       "      <th>ObjectID</th>\n",
       "      <th>Date</th>\n",
       "      <th>Year</th>\n",
       "      <th>Month</th>\n",
       "      <th>Day</th>\n",
       "      <th>Maximum T</th>\n",
       "      <th>Minimum T</th>\n",
       "      <th>Precipitation</th>\n",
       "      <th>Snow</th>\n",
       "      <th>Weekday</th>\n",
       "    </tr>\n",
       "  </thead>\n",
       "  <tbody>\n",
       "    <tr>\n",
       "      <th>0</th>\n",
       "      <td>0</td>\n",
       "      <td>1</td>\n",
       "      <td>BOULDER / JUNCTION ST1</td>\n",
       "      <td>2280 Junction Pl</td>\n",
       "      <td>Boulder</td>\n",
       "      <td>Colorado</td>\n",
       "      <td>80301</td>\n",
       "      <td>2018-01-01 17:49:00</td>\n",
       "      <td>MDT</td>\n",
       "      <td>2018-01-01 19:52:00</td>\n",
       "      <td>...</td>\n",
       "      <td>0</td>\n",
       "      <td>2018-01-01</td>\n",
       "      <td>2018</td>\n",
       "      <td>January</td>\n",
       "      <td>1</td>\n",
       "      <td>30</td>\n",
       "      <td>12</td>\n",
       "      <td>0.0</td>\n",
       "      <td>0.0</td>\n",
       "      <td>Monday</td>\n",
       "    </tr>\n",
       "    <tr>\n",
       "      <th>1</th>\n",
       "      <td>2</td>\n",
       "      <td>3</td>\n",
       "      <td>BOULDER / JUNCTION ST1</td>\n",
       "      <td>2280 Junction Pl</td>\n",
       "      <td>Boulder</td>\n",
       "      <td>Colorado</td>\n",
       "      <td>80301</td>\n",
       "      <td>2018-01-02 21:11:00</td>\n",
       "      <td>MDT</td>\n",
       "      <td>2018-01-03 06:23:00</td>\n",
       "      <td>...</td>\n",
       "      <td>2</td>\n",
       "      <td>2018-01-02</td>\n",
       "      <td>2018</td>\n",
       "      <td>January</td>\n",
       "      <td>2</td>\n",
       "      <td>46</td>\n",
       "      <td>12</td>\n",
       "      <td>0.0</td>\n",
       "      <td>0.0</td>\n",
       "      <td>Tuesday</td>\n",
       "    </tr>\n",
       "    <tr>\n",
       "      <th>2</th>\n",
       "      <td>3</td>\n",
       "      <td>70196</td>\n",
       "      <td>BOULDER / JUNCTION ST1</td>\n",
       "      <td>2280 Junction Pl</td>\n",
       "      <td>Boulder</td>\n",
       "      <td>Colorado</td>\n",
       "      <td>80301</td>\n",
       "      <td>2018-01-02 08:52:00</td>\n",
       "      <td>MDT</td>\n",
       "      <td>2018-01-02 09:16:00</td>\n",
       "      <td>...</td>\n",
       "      <td>1</td>\n",
       "      <td>2018-01-02</td>\n",
       "      <td>2018</td>\n",
       "      <td>January</td>\n",
       "      <td>2</td>\n",
       "      <td>46</td>\n",
       "      <td>12</td>\n",
       "      <td>0.0</td>\n",
       "      <td>0.0</td>\n",
       "      <td>Tuesday</td>\n",
       "    </tr>\n",
       "    <tr>\n",
       "      <th>3</th>\n",
       "      <td>6</td>\n",
       "      <td>4</td>\n",
       "      <td>BOULDER / ALPINE ST1</td>\n",
       "      <td>1275 Alpine Ave</td>\n",
       "      <td>Boulder</td>\n",
       "      <td>Colorado</td>\n",
       "      <td>80304</td>\n",
       "      <td>2018-01-03 09:19:00</td>\n",
       "      <td>MDT</td>\n",
       "      <td>2018-01-03 11:14:00</td>\n",
       "      <td>...</td>\n",
       "      <td>3</td>\n",
       "      <td>2018-01-03</td>\n",
       "      <td>2018</td>\n",
       "      <td>January</td>\n",
       "      <td>3</td>\n",
       "      <td>50</td>\n",
       "      <td>20</td>\n",
       "      <td>0.0</td>\n",
       "      <td>0.0</td>\n",
       "      <td>Wednesday</td>\n",
       "    </tr>\n",
       "    <tr>\n",
       "      <th>4</th>\n",
       "      <td>7</td>\n",
       "      <td>5</td>\n",
       "      <td>BOULDER / BASELINE ST1</td>\n",
       "      <td>900 Baseline Rd</td>\n",
       "      <td>Boulder</td>\n",
       "      <td>Colorado</td>\n",
       "      <td>80302</td>\n",
       "      <td>2018-01-03 14:13:00</td>\n",
       "      <td>MDT</td>\n",
       "      <td>2018-01-03 14:30:00</td>\n",
       "      <td>...</td>\n",
       "      <td>4</td>\n",
       "      <td>2018-01-03</td>\n",
       "      <td>2018</td>\n",
       "      <td>January</td>\n",
       "      <td>3</td>\n",
       "      <td>50</td>\n",
       "      <td>20</td>\n",
       "      <td>0.0</td>\n",
       "      <td>0.0</td>\n",
       "      <td>Wednesday</td>\n",
       "    </tr>\n",
       "  </tbody>\n",
       "</table>\n",
       "<p>5 rows × 27 columns</p>\n",
       "</div>"
      ],
      "text/plain": [
       "   Unnamed: 0  ObjectId2            Station_Name           Address     City  \\\n",
       "0           0          1  BOULDER / JUNCTION ST1  2280 Junction Pl  Boulder   \n",
       "1           2          3  BOULDER / JUNCTION ST1  2280 Junction Pl  Boulder   \n",
       "2           3      70196  BOULDER / JUNCTION ST1  2280 Junction Pl  Boulder   \n",
       "3           6          4    BOULDER / ALPINE ST1   1275 Alpine Ave  Boulder   \n",
       "4           7          5  BOULDER / BASELINE ST1   900 Baseline Rd  Boulder   \n",
       "\n",
       "  State_Province  Zip_Postal_Code    Start_Date___Time Start_Time_Zone  \\\n",
       "0       Colorado            80301  2018-01-01 17:49:00             MDT   \n",
       "1       Colorado            80301  2018-01-02 21:11:00             MDT   \n",
       "2       Colorado            80301  2018-01-02 08:52:00             MDT   \n",
       "3       Colorado            80304  2018-01-03 09:19:00             MDT   \n",
       "4       Colorado            80302  2018-01-03 14:13:00             MDT   \n",
       "\n",
       "       End_Date___Time  ... ObjectID        Date  Year    Month  Day  \\\n",
       "0  2018-01-01 19:52:00  ...        0  2018-01-01  2018  January    1   \n",
       "1  2018-01-03 06:23:00  ...        2  2018-01-02  2018  January    2   \n",
       "2  2018-01-02 09:16:00  ...        1  2018-01-02  2018  January    2   \n",
       "3  2018-01-03 11:14:00  ...        3  2018-01-03  2018  January    3   \n",
       "4  2018-01-03 14:30:00  ...        4  2018-01-03  2018  January    3   \n",
       "\n",
       "   Maximum T Minimum T  Precipitation Snow    Weekday  \n",
       "0         30        12            0.0  0.0     Monday  \n",
       "1         46        12            0.0  0.0    Tuesday  \n",
       "2         46        12            0.0  0.0    Tuesday  \n",
       "3         50        20            0.0  0.0  Wednesday  \n",
       "4         50        20            0.0  0.0  Wednesday  \n",
       "\n",
       "[5 rows x 27 columns]"
      ]
     },
     "execution_count": 10,
     "metadata": {},
     "output_type": "execute_result"
    }
   ],
   "source": [
    "boulder = pd.read_csv('../data/EntireBoulderWithWeather.csv')\n",
    "boulder.head()"
   ]
  },
  {
   "cell_type": "markdown",
   "metadata": {},
   "source": [
    "#### Removing Outliers in Energy Consumption Column"
   ]
  },
  {
   "cell_type": "code",
   "execution_count": 11,
   "metadata": {},
   "outputs": [
    {
     "name": "stdout",
     "output_type": "stream",
     "text": [
      "2.65% of outliers were removed.\n"
     ]
    }
   ],
   "source": [
    "# Calculate the median and standard deviation of the `Energy__kWh_` column\n",
    "median_energy = boulder['Energy__kWh_'].median()\n",
    "std_energy = boulder['Energy__kWh_'].std()\n",
    "\n",
    "# Calculate the lower and upper bounds for outliers\n",
    "lower_bound = median_energy - 3 * std_energy\n",
    "upper_bound = median_energy + 3 * std_energy\n",
    "\n",
    "# Filter out the outliers\n",
    "filtered_boulder = boulder[(boulder['Energy__kWh_'] >= lower_bound) & (boulder['Energy__kWh_'] <= upper_bound)]\n",
    "\n",
    "# Check the percentage of rows removed\n",
    "percent_removed = (1 - len(filtered_boulder) / len(boulder)) * 100\n",
    "print(f'{percent_removed:.2f}% of outliers were removed.')"
   ]
  }
 ],
 "metadata": {
  "kernelspec": {
   "display_name": "base",
   "language": "python",
   "name": "python3"
  },
  "language_info": {
   "codemirror_mode": {
    "name": "ipython",
    "version": 3
   },
   "file_extension": ".py",
   "mimetype": "text/x-python",
   "name": "python",
   "nbconvert_exporter": "python",
   "pygments_lexer": "ipython3",
   "version": "3.10.8"
  }
 },
 "nbformat": 4,
 "nbformat_minor": 2
}
